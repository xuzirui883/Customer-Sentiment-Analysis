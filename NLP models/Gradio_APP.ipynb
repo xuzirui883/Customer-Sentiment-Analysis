{
  "nbformat": 4,
  "nbformat_minor": 0,
  "metadata": {
    "colab": {
      "provenance": []
    },
    "kernelspec": {
      "name": "python3",
      "display_name": "Python 3"
    },
    "language_info": {
      "name": "python"
    }
  },
  "cells": [
    {
      "cell_type": "code",
      "source": [
        "!pip install gradio"
      ],
      "metadata": {
        "id": "fgvrdzYSC29R"
      },
      "execution_count": null,
      "outputs": []
    },
    {
      "cell_type": "code",
      "execution_count": null,
      "metadata": {
        "id": "UKzhurT_C1O0"
      },
      "outputs": [],
      "source": [
        "!pip install openai"
      ]
    },
    {
      "cell_type": "code",
      "source": [
        "import gradio as gr\n",
        "from Sentiment_model import time_sensitivity, importance, tone, check_all\n",
        "\n",
        "def ece1779(sentence):\n",
        "\n",
        "  tim = time_sensitivity(sentence)\n",
        "  imp = importance(sentence)\n",
        "  ton = tone(sentence)\n",
        "  result = check_all(sentence)\n",
        "\n",
        "  return tim, imp, ton, result\n",
        "\n",
        "project = gr.Interface(\n",
        "    fn=ece1779,\n",
        "    inputs=[gr.Textbox(lines=50, placeholder=\"Type here the sentences...\")],\n",
        "    outputs=[gr.Textbox(label='Time Urgency'), gr.Textbox(label='Event Urgency'), gr.Textbox(label='Language Excitement'), gr.Textbox(label='Urgency Rating')]\n",
        ")"
      ],
      "metadata": {
        "id": "VcUk7JmSC9KS"
      },
      "execution_count": 5,
      "outputs": []
    },
    {
      "cell_type": "code",
      "source": [
        "project.launch()"
      ],
      "metadata": {
        "colab": {
          "base_uri": "https://localhost:8080/",
          "height": 648
        },
        "id": "M_HvyzSdDNUo",
        "outputId": "47816ccf-d745-441f-a850-e2f94e2209b9"
      },
      "execution_count": 6,
      "outputs": [
        {
          "output_type": "stream",
          "name": "stdout",
          "text": [
            "Setting queue=True in a Colab notebook requires sharing enabled. Setting `share=True` (you can turn this off by setting `share=False` in `launch()` explicitly).\n",
            "\n",
            "Colab notebook detected. To show errors in colab notebook, set debug=True in launch()\n",
            "Running on public URL: https://3e7ae76b7f3e9b8fce.gradio.live\n",
            "\n",
            "This share link expires in 72 hours. For free permanent hosting and GPU upgrades, run `gradio deploy` from Terminal to deploy to Spaces (https://huggingface.co/spaces)\n"
          ]
        },
        {
          "output_type": "display_data",
          "data": {
            "text/plain": [
              "<IPython.core.display.HTML object>"
            ],
            "text/html": [
              "<div><iframe src=\"https://3e7ae76b7f3e9b8fce.gradio.live\" width=\"100%\" height=\"500\" allow=\"autoplay; camera; microphone; clipboard-read; clipboard-write;\" frameborder=\"0\" allowfullscreen></iframe></div>"
            ]
          },
          "metadata": {}
        },
        {
          "output_type": "execute_result",
          "data": {
            "text/plain": []
          },
          "metadata": {},
          "execution_count": 6
        }
      ]
    }
  ]
}